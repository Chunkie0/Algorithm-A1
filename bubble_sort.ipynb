{
  "nbformat": 4,
  "nbformat_minor": 0,
  "metadata": {
    "colab": {
      "name": "Untitled0.ipynb",
      "provenance": [],
      "collapsed_sections": [],
      "authorship_tag": "ABX9TyOMEq/677jRieNxkY5CxBel",
      "include_colab_link": true
    },
    "kernelspec": {
      "name": "python3",
      "display_name": "Python 3"
    },
    "language_info": {
      "name": "python"
    }
  },
  "cells": [
    {
      "cell_type": "markdown",
      "metadata": {
        "id": "view-in-github",
        "colab_type": "text"
      },
      "source": [
        "<a href=\"https://colab.research.google.com/github/Chunkie0/Algorithm-A1/blob/main/bubble_sort.ipynb\" target=\"_parent\"><img src=\"https://colab.research.google.com/assets/colab-badge.svg\" alt=\"Open In Colab\"/></a>"
      ]
    },
    {
      "cell_type": "code",
      "metadata": {
        "colab": {
          "base_uri": "https://localhost:8080/"
        },
        "id": "v0HGeF1Z2_2-",
        "outputId": "01b6eeb5-e4d1-4bcb-cc4b-5a8d5d6ad1ec"
      },
      "source": [
        "def bubble_sort(name):\n",
        "  letters = list(name)\n",
        "\n",
        "  not_sorted = True\n",
        "  while not_sorted:\n",
        "    not_sorted = False\n",
        "    for i in range(len(letters)-1):\n",
        "      if ord(letters[i]) > ord(letters[i+1]):\n",
        "        letters[i], letters[i+1] = letters[i+1], letters[i]\n",
        "        not_sorted = True\n",
        "  return \"\".join(letters).strip()\n",
        "\n",
        "print(bubble_sort(\"davis dambis\"))"
      ],
      "execution_count": null,
      "outputs": [
        {
          "output_type": "stream",
          "text": [
            "aabddiimssv\n"
          ],
          "name": "stdout"
        }
      ]
    }
  ]
}